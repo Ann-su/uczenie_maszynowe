{
 "cells": [
  {
   "cell_type": "code",
   "execution_count": 1,
   "metadata": {},
   "outputs": [],
   "source": [
    "import pandas as pd\n",
    "import numpy as np\n",
    "import matplotlib.pyplot as plt\n",
    "import seaborn as sns"
   ]
  },
  {
   "cell_type": "code",
   "execution_count": 2,
   "metadata": {},
   "outputs": [],
   "source": [
    "with open(\"./Zbiór danych Titanic.arff\", \"r\") as f:\n",
    "    headers = f.read()\n",
    "\n",
    "columns = [header.split()[1].strip(\"'\") for header in headers.split(\"\\n\") if header.lower().startswith(\"@attribute\")]\n",
    "titanic_df = pd.read_csv('./Zbiór danych Titanic.arff', skiprows=17)\n",
    "titanic_df.columns = columns\n",
    "titanic_df = titanic_df.replace(\"?\", np.nan)"
   ]
  },
  {
   "cell_type": "markdown",
   "metadata": {},
   "source": [
    "## 1."
   ]
  },
  {
   "cell_type": "code",
   "execution_count": 3,
   "metadata": {},
   "outputs": [
    {
     "name": "stdout",
     "output_type": "stream",
     "text": [
      "Liczba etykiet zmiennej name: 1306\n",
      "Liczba etykiet zmiennej ticket: 929\n",
      "Liczba etykiet zmiennej home.dest: 370\n",
      "Liczba etykiet zmiennej cabin: 187\n",
      "Liczba etykiet zmiennej boat: 28\n",
      "Liczba etykiet zmiennej embarked: 4\n",
      "Liczba etykiet zmiennej pclass: 3\n",
      "Liczba etykiet zmiennej sex: 2\n",
      "Liczba etykiet zmiennej survived: 2\n"
     ]
    }
   ],
   "source": [
    "cats = ['pclass', 'survived', 'name', 'sex', 'ticket', 'cabin', 'embarked', 'boat', 'home.dest']\n",
    "cardinality = pd.DataFrame(columns=['len'])\n",
    "\n",
    "for col in cats:\n",
    "    cardinality.loc[col] = len(titanic_df[col].unique())\n",
    "\n",
    "for col in cardinality.sort_values(by='len', ascending=False).index:\n",
    "    print('Liczba etykiet zmiennej {}: {}'.format(col, cardinality.loc[col, 'len']))\n"
   ]
  },
  {
   "cell_type": "markdown",
   "metadata": {},
   "source": [
    "## 2."
   ]
  },
  {
   "cell_type": "code",
   "execution_count": 4,
   "metadata": {},
   "outputs": [
    {
     "name": "stdout",
     "output_type": "stream",
     "text": [
      "Liczba wszystkich pasażerów 1308\n"
     ]
    }
   ],
   "source": [
    "print(\"Liczba wszystkich pasażerów {}\".format(len(titanic_df)))"
   ]
  },
  {
   "cell_type": "markdown",
   "metadata": {},
   "source": [
    "## 3.\n",
    "\n",
    "### Mała moc zbioru\n",
    "\n",
    "Zmienne `survived`, `sex` mają dwie różne wartości (takie dane reprezentują). Zmienna `embarked` ma 3 wartości, ponieważ Titanic odbijał od tylko trzech portów. Zmienna `boat` ma tylko 28 wartości, ponieważ uznano taką ilość za odpowiednią (nie było). Zmienna `pclass` ma 3 różne wartości, ponieważ przedstawia 3 klasy.\n",
    "\n",
    "### Duża moc zbioru\n",
    "\n",
    "Zmienne `name`, `ticket`, `cabin`, `home.dest` mają dużą moc, gdyż są one różne dla prawie każdego pasażera."
   ]
  },
  {
   "cell_type": "markdown",
   "metadata": {},
   "source": [
    "## 4."
   ]
  },
  {
   "cell_type": "code",
   "execution_count": 5,
   "metadata": {},
   "outputs": [
    {
     "data": {
      "text/plain": [
       "186"
      ]
     },
     "execution_count": 5,
     "metadata": {},
     "output_type": "execute_result"
    }
   ],
   "source": [
    "len(titanic_df['cabin'].dropna().unique())\n"
   ]
  },
  {
   "cell_type": "markdown",
   "metadata": {},
   "source": [
    "## 5."
   ]
  },
  {
   "cell_type": "code",
   "execution_count": 6,
   "metadata": {},
   "outputs": [
    {
     "data": {
      "text/html": [
       "<div>\n",
       "<style scoped>\n",
       "    .dataframe tbody tr th:only-of-type {\n",
       "        vertical-align: middle;\n",
       "    }\n",
       "\n",
       "    .dataframe tbody tr th {\n",
       "        vertical-align: top;\n",
       "    }\n",
       "\n",
       "    .dataframe thead th {\n",
       "        text-align: right;\n",
       "    }\n",
       "</style>\n",
       "<table border=\"1\" class=\"dataframe\">\n",
       "  <thead>\n",
       "    <tr style=\"text-align: right;\">\n",
       "      <th></th>\n",
       "      <th>cabin</th>\n",
       "      <th>CabinReduced</th>\n",
       "    </tr>\n",
       "  </thead>\n",
       "  <tbody>\n",
       "    <tr>\n",
       "      <th>0</th>\n",
       "      <td>C22 C26</td>\n",
       "      <td>C</td>\n",
       "    </tr>\n",
       "    <tr>\n",
       "      <th>1</th>\n",
       "      <td>C22 C26</td>\n",
       "      <td>C</td>\n",
       "    </tr>\n",
       "    <tr>\n",
       "      <th>2</th>\n",
       "      <td>C22 C26</td>\n",
       "      <td>C</td>\n",
       "    </tr>\n",
       "    <tr>\n",
       "      <th>3</th>\n",
       "      <td>C22 C26</td>\n",
       "      <td>C</td>\n",
       "    </tr>\n",
       "    <tr>\n",
       "      <th>4</th>\n",
       "      <td>E12</td>\n",
       "      <td>E</td>\n",
       "    </tr>\n",
       "    <tr>\n",
       "      <th>5</th>\n",
       "      <td>D7</td>\n",
       "      <td>D</td>\n",
       "    </tr>\n",
       "    <tr>\n",
       "      <th>6</th>\n",
       "      <td>A36</td>\n",
       "      <td>A</td>\n",
       "    </tr>\n",
       "    <tr>\n",
       "      <th>7</th>\n",
       "      <td>C101</td>\n",
       "      <td>C</td>\n",
       "    </tr>\n",
       "    <tr>\n",
       "      <th>8</th>\n",
       "      <td>NaN</td>\n",
       "      <td>NaN</td>\n",
       "    </tr>\n",
       "    <tr>\n",
       "      <th>9</th>\n",
       "      <td>C62 C64</td>\n",
       "      <td>C</td>\n",
       "    </tr>\n",
       "    <tr>\n",
       "      <th>10</th>\n",
       "      <td>C62 C64</td>\n",
       "      <td>C</td>\n",
       "    </tr>\n",
       "    <tr>\n",
       "      <th>11</th>\n",
       "      <td>B35</td>\n",
       "      <td>B</td>\n",
       "    </tr>\n",
       "    <tr>\n",
       "      <th>12</th>\n",
       "      <td>NaN</td>\n",
       "      <td>NaN</td>\n",
       "    </tr>\n",
       "    <tr>\n",
       "      <th>13</th>\n",
       "      <td>A23</td>\n",
       "      <td>A</td>\n",
       "    </tr>\n",
       "    <tr>\n",
       "      <th>14</th>\n",
       "      <td>NaN</td>\n",
       "      <td>NaN</td>\n",
       "    </tr>\n",
       "    <tr>\n",
       "      <th>15</th>\n",
       "      <td>B58 B60</td>\n",
       "      <td>B</td>\n",
       "    </tr>\n",
       "    <tr>\n",
       "      <th>16</th>\n",
       "      <td>B58 B60</td>\n",
       "      <td>B</td>\n",
       "    </tr>\n",
       "    <tr>\n",
       "      <th>17</th>\n",
       "      <td>D15</td>\n",
       "      <td>D</td>\n",
       "    </tr>\n",
       "    <tr>\n",
       "      <th>18</th>\n",
       "      <td>C6</td>\n",
       "      <td>C</td>\n",
       "    </tr>\n",
       "    <tr>\n",
       "      <th>19</th>\n",
       "      <td>D35</td>\n",
       "      <td>D</td>\n",
       "    </tr>\n",
       "  </tbody>\n",
       "</table>\n",
       "</div>"
      ],
      "text/plain": [
       "      cabin CabinReduced\n",
       "0   C22 C26            C\n",
       "1   C22 C26            C\n",
       "2   C22 C26            C\n",
       "3   C22 C26            C\n",
       "4       E12            E\n",
       "5        D7            D\n",
       "6       A36            A\n",
       "7      C101            C\n",
       "8       NaN          NaN\n",
       "9   C62 C64            C\n",
       "10  C62 C64            C\n",
       "11      B35            B\n",
       "12      NaN          NaN\n",
       "13      A23            A\n",
       "14      NaN          NaN\n",
       "15  B58 B60            B\n",
       "16  B58 B60            B\n",
       "17      D15            D\n",
       "18       C6            C\n",
       "19      D35            D"
      ]
     },
     "execution_count": 6,
     "metadata": {},
     "output_type": "execute_result"
    }
   ],
   "source": [
    "titanic_df['CabinReduced'] = titanic_df['cabin'].dropna().astype(str).str[0]\n",
    "titanic_df[['cabin', 'CabinReduced']].head(20)"
   ]
  },
  {
   "cell_type": "markdown",
   "metadata": {},
   "source": [
    "## 6."
   ]
  },
  {
   "cell_type": "code",
   "execution_count": 7,
   "metadata": {},
   "outputs": [
    {
     "name": "stdout",
     "output_type": "stream",
     "text": [
      "Liczba etykiet zmiennej cabin: 187\n",
      "Liczba etykiet zmiennej CabinReduced: 9\n",
      "Kardynalność zredukowano o 95.19%\n"
     ]
    }
   ],
   "source": [
    "reduced = []\n",
    "for cat in ['cabin', 'CabinReduced']:\n",
    "    reduced.append(len(titanic_df[cat].unique()))\n",
    "    print(f'Liczba etykiet zmiennej {cat}: {len(titanic_df[cat].unique())}')\n",
    "\n",
    "print('Kardynalność zredukowano o {}%'.format(np.round((reduced[0] - reduced[1]) / reduced[0] * 100, 2)))\n"
   ]
  },
  {
   "cell_type": "markdown",
   "metadata": {},
   "source": [
    "## 7.\n",
    "\n",
    "### Dlaczego dokonuję redukcji akurat zmiennej `cabin`?\n",
    "1) Zwiększa sie przejrzystość danych, gdyż `cabin` ma wysoką kardynalność (zamiast 187 etykiet zostaje nam 9)\n",
    "2) Takie było polecenie nr 5, czyli mam obowiązek zrealizować to polecenie\n",
    "\n",
    "#### Wpływ\n",
    "- Zamiast kilkuset kabin mamy kilka kategorii, co zwiększa przejrzystość danych, dzięki czemu można się skupić an istotnych cechach\n",
    "\n",
    "#### Negatywne skutki:\n",
    "- Utrata szczegółowych informacji o kabinach, co może zmniejszyć dokładność, co może doprowadzić do zniknięcia drobnych wzorców (np. odległość kabiny od łodzi ratunkowej)"
   ]
  }
 ],
 "metadata": {
  "kernelspec": {
   "display_name": "DataScience",
   "language": "python",
   "name": "python3"
  },
  "language_info": {
   "codemirror_mode": {
    "name": "ipython",
    "version": 3
   },
   "file_extension": ".py",
   "mimetype": "text/x-python",
   "name": "python",
   "nbconvert_exporter": "python",
   "pygments_lexer": "ipython3",
   "version": "3.12.3"
  }
 },
 "nbformat": 4,
 "nbformat_minor": 2
}
